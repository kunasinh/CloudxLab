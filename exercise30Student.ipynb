{
 "cells": [
  {
   "cell_type": "code",
   "execution_count": 18,
   "metadata": {},
   "outputs": [
    {
     "data": {
      "text/plain": [
       "defined class Student\n"
      ]
     },
     "metadata": {},
     "output_type": "display_data"
    }
   ],
   "source": [
    "class Student(){\n",
    "    var name:String=\"\";\n",
    "    var sex:Char='F';\n",
    "    var grade:Int=5;\n",
    "    var age:Int=12;\n",
    "    \n",
    "    def this(name_stu:String){\n",
    "        this()\n",
    "        this.name=name_stu;\n",
    "    }\n",
    "    def this(name_stu:String,sex_stu:Char){\n",
    "        this()\n",
    "        this.name=name_stu;\n",
    "        this.sex=sex_stu;\n",
    "    }\n",
    "    def this(name_stu:String,sex_stu:Char,grade_stu:Int){\n",
    "        this()\n",
    "        this.name=name_stu;\n",
    "        this.sex=sex_stu;\n",
    "        this.grade=grade_stu;\n",
    "    }\n",
    "    def this(name_stu:String,sex_stu:Char,grade_stu:Int,age_stu:Int){\n",
    "        this()\n",
    "        this.name=name_stu;\n",
    "        this.sex=sex_stu;\n",
    "        this.grade=grade_stu;\n",
    "        this.age=age_stu;\n",
    "    }\n",
    "}"
   ]
  },
  {
   "cell_type": "code",
   "execution_count": 19,
   "metadata": {},
   "outputs": [
    {
     "data": {
      "text/plain": [
       "stu = Student@6b8c5fd6\n"
      ]
     },
     "metadata": {},
     "output_type": "display_data"
    },
    {
     "data": {
      "text/plain": [
       "$line41.$read$$iw$$iw$Student@47bb5359"
      ]
     },
     "execution_count": 19,
     "metadata": {},
     "output_type": "execute_result"
    }
   ],
   "source": [
    "var stu = new Student(\"Doe\", 'F', 8, 16);"
   ]
  },
  {
   "cell_type": "code",
   "execution_count": 20,
   "metadata": {},
   "outputs": [
    {
     "data": {
      "text/plain": [
       "name_stu = Mack\n",
       "sex_stu = F\n",
       "grade_stu = 5\n",
       "age_stu = 12\n"
      ]
     },
     "metadata": {},
     "output_type": "display_data"
    },
    {
     "data": {
      "text/plain": [
       "12"
      ]
     },
     "execution_count": 20,
     "metadata": {},
     "output_type": "execute_result"
    }
   ],
   "source": [
    "var name_stu = stu.name\n",
    "var sex_stu = stu.sex\n",
    "var grade_stu = stu.grade\n",
    "var age_stu = stu.age"
   ]
  },
  {
   "cell_type": "code",
   "execution_count": null,
   "metadata": {},
   "outputs": [],
   "source": []
  },
  {
   "cell_type": "code",
   "execution_count": null,
   "metadata": {},
   "outputs": [],
   "source": []
  },
  {
   "cell_type": "code",
   "execution_count": null,
   "metadata": {},
   "outputs": [],
   "source": []
  }
 ],
 "metadata": {
  "kernelspec": {
   "display_name": "Apache Toree - Scala",
   "language": "scala",
   "name": "apache_toree_scala"
  },
  "language_info": {
   "codemirror_mode": "text/x-scala",
   "file_extension": ".scala",
   "mimetype": "text/x-scala",
   "name": "scala",
   "pygments_lexer": "scala",
   "version": "2.11.8"
  },
  "toc": {
   "base_numbering": 1,
   "nav_menu": {},
   "number_sections": true,
   "sideBar": true,
   "skip_h1_title": false,
   "title_cell": "Table of Contents",
   "title_sidebar": "Contents",
   "toc_cell": false,
   "toc_position": {},
   "toc_section_display": true,
   "toc_window_display": false
  }
 },
 "nbformat": 4,
 "nbformat_minor": 2
}
