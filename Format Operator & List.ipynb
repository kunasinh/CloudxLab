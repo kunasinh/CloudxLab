{
 "cells": [
  {
   "cell_type": "code",
   "execution_count": 1,
   "metadata": {},
   "outputs": [
    {
     "name": "stdout",
     "output_type": "stream",
     "text": [
      "3+3\n"
     ]
    }
   ],
   "source": [
    "print('%d+3' % 3)"
   ]
  },
  {
   "cell_type": "code",
   "execution_count": 2,
   "metadata": {},
   "outputs": [
    {
     "name": "stdout",
     "output_type": "stream",
     "text": [
      "%f %f %s\n"
     ]
    }
   ],
   "source": [
    "print(\"%f %f %s\")"
   ]
  },
  {
   "cell_type": "code",
   "execution_count": 8,
   "metadata": {},
   "outputs": [
    {
     "name": "stdout",
     "output_type": "stream",
     "text": [
      "12.300000, 12, cloudxlab\n"
     ]
    }
   ],
   "source": [
    "print(\"%f, %d, %s\" % (12.3, 12, 'cloudxlab'))"
   ]
  },
  {
   "cell_type": "code",
   "execution_count": 1,
   "metadata": {},
   "outputs": [],
   "source": [
    "a = [12, 3.4, 34, 'cloudxlab', [2.3, 1.4]]"
   ]
  },
  {
   "cell_type": "code",
   "execution_count": 4,
   "metadata": {},
   "outputs": [
    {
     "name": "stdout",
     "output_type": "stream",
     "text": [
      "True\n"
     ]
    }
   ],
   "source": [
    "print(3.4 in a)"
   ]
  },
  {
   "cell_type": "code",
   "execution_count": 5,
   "metadata": {},
   "outputs": [
    {
     "name": "stdout",
     "output_type": "stream",
     "text": [
      "True\n"
     ]
    }
   ],
   "source": [
    "print('cloudxlab' in a)"
   ]
  },
  {
   "cell_type": "code",
   "execution_count": 6,
   "metadata": {},
   "outputs": [
    {
     "name": "stdout",
     "output_type": "stream",
     "text": [
      "1\n",
      "2\n",
      "3\n",
      "4\n",
      "5\n"
     ]
    }
   ],
   "source": [
    "a = [1,2,3,4,5]\n",
    "for number in a:\n",
    "    print(number)"
   ]
  },
  {
   "cell_type": "code",
   "execution_count": 8,
   "metadata": {},
   "outputs": [
    {
     "name": "stdout",
     "output_type": "stream",
     "text": [
      "0\n",
      "1\n",
      "2\n",
      "3\n",
      "4\n"
     ]
    }
   ],
   "source": [
    "for number in range(len(a)):\n",
    "    a[number] = a[number] + 1\n",
    "    print(number)"
   ]
  },
  {
   "cell_type": "code",
   "execution_count": 10,
   "metadata": {},
   "outputs": [
    {
     "name": "stdout",
     "output_type": "stream",
     "text": [
      "[1, 2, 3, 1, 2, 3, 1, 2, 3]\n"
     ]
    }
   ],
   "source": [
    "a=[1,2,3]\n",
    "c=a*3\n",
    "print(c)"
   ]
  },
  {
   "cell_type": "code",
   "execution_count": 11,
   "metadata": {},
   "outputs": [
    {
     "data": {
      "text/plain": [
       "18"
      ]
     },
     "execution_count": 11,
     "metadata": {},
     "output_type": "execute_result"
    }
   ],
   "source": [
    "sum(c)"
   ]
  },
  {
   "cell_type": "code",
   "execution_count": 14,
   "metadata": {},
   "outputs": [
    {
     "name": "stdout",
     "output_type": "stream",
     "text": [
      "12\n"
     ]
    }
   ],
   "source": [
    "a = [1,2,3,4,5,6,7,8,9]\n",
    "s = (a[2:5])\n",
    "print(sum(s))"
   ]
  },
  {
   "cell_type": "code",
   "execution_count": 18,
   "metadata": {},
   "outputs": [
    {
     "name": "stdout",
     "output_type": "stream",
     "text": [
      "[3, 4, 5]\n",
      "[7, 4, 9]\n",
      "53\n"
     ]
    }
   ],
   "source": [
    "a = [1,2,3,4,5,6,7,8,9]\n",
    "print(a[2:5])\n",
    "a[2:5] = [7,4,9]\n",
    "print(a[2:5])\n",
    "print(sum(a))"
   ]
  },
  {
   "cell_type": "code",
   "execution_count": 38,
   "metadata": {},
   "outputs": [
    {
     "name": "stdout",
     "output_type": "stream",
     "text": [
      "56\n"
     ]
    }
   ],
   "source": [
    "a = [23,12,32,1,2,34,56]\n",
    "a.append(12)\n",
    "print(a[len(a)-2])"
   ]
  },
  {
   "cell_type": "code",
   "execution_count": 39,
   "metadata": {},
   "outputs": [
    {
     "name": "stdout",
     "output_type": "stream",
     "text": [
      "344\n"
     ]
    }
   ],
   "source": [
    "a.extend(a)\n",
    "print(sum(a))"
   ]
  },
  {
   "cell_type": "code",
   "execution_count": 41,
   "metadata": {},
   "outputs": [
    {
     "name": "stdout",
     "output_type": "stream",
     "text": [
      "[1, 1, 2, 2, 12, 12, 12, 12, 23, 23, 32, 32, 34, 34, 56, 56]\n",
      "16\n",
      "14\n"
     ]
    }
   ],
   "source": [
    "a.sort()\n",
    "print(a)\n",
    "print(len(a))\n",
    "print(a[2] + a[7])"
   ]
  },
  {
   "cell_type": "code",
   "execution_count": 51,
   "metadata": {},
   "outputs": [
    {
     "data": {
      "text/plain": [
       "89"
      ]
     },
     "execution_count": 51,
     "metadata": {},
     "output_type": "execute_result"
    }
   ],
   "source": [
    "list1 = [12,23,43,[2,4,5], 2, 4,5]\n",
    "list1.pop(3)\n",
    "sum(list1)"
   ]
  },
  {
   "cell_type": "code",
   "execution_count": 44,
   "metadata": {},
   "outputs": [
    {
     "name": "stdout",
     "output_type": "stream",
     "text": [
      "['cloudx', 'provides', 'cloud', 'lab']\n"
     ]
    }
   ],
   "source": [
    "list2 = ['cloudx', 'lab', 'provides', 'cloud', 'lab']\n",
    "del list2[1]\n",
    "print(list2)"
   ]
  },
  {
   "cell_type": "code",
   "execution_count": 45,
   "metadata": {},
   "outputs": [],
   "source": [
    "list2.remove('lab')"
   ]
  },
  {
   "cell_type": "code",
   "execution_count": 46,
   "metadata": {},
   "outputs": [
    {
     "data": {
      "text/plain": [
       "['cloudx', 'provides', 'cloud']"
      ]
     },
     "execution_count": 46,
     "metadata": {},
     "output_type": "execute_result"
    }
   ],
   "source": [
    "list2"
   ]
  },
  {
   "cell_type": "code",
   "execution_count": 47,
   "metadata": {},
   "outputs": [],
   "source": [
    "list2 = ['cloudx', 'lab', 'provides', 'cloud', 'lab']\n",
    "del list2[:]"
   ]
  },
  {
   "cell_type": "code",
   "execution_count": 49,
   "metadata": {},
   "outputs": [
    {
     "data": {
      "text/plain": [
       "0"
      ]
     },
     "execution_count": 49,
     "metadata": {},
     "output_type": "execute_result"
    }
   ],
   "source": [
    "len(list2)"
   ]
  },
  {
   "cell_type": "code",
   "execution_count": 52,
   "metadata": {},
   "outputs": [
    {
     "name": "stdout",
     "output_type": "stream",
     "text": [
      "['C', 'l', 'o', 'u', 'd', 'x', 'L', 'a', 'b']\n"
     ]
    }
   ],
   "source": [
    "s = \"CloudxLab\"\n",
    "l = list(s)\n",
    "print (l)"
   ]
  },
  {
   "cell_type": "code",
   "execution_count": 53,
   "metadata": {},
   "outputs": [
    {
     "name": "stdout",
     "output_type": "stream",
     "text": [
      "['I', 'am', 'learning', 'Python', 'at', 'CloudxLab']\n"
     ]
    }
   ],
   "source": [
    "s = \"I am learning Python at CloudxLab\"\n",
    "sp = s.split()\n",
    "print (sp)"
   ]
  },
  {
   "cell_type": "code",
   "execution_count": 56,
   "metadata": {},
   "outputs": [
    {
     "name": "stdout",
     "output_type": "stream",
     "text": [
      "['I ', ' learning Python at CloudxLab']\n"
     ]
    }
   ],
   "source": [
    "s = \"I am learning Python at CloudxLab\"\n",
    "sp = s.split(\"am\")\n",
    "print(sp)"
   ]
  },
  {
   "cell_type": "code",
   "execution_count": 57,
   "metadata": {},
   "outputs": [
    {
     "name": "stdout",
     "output_type": "stream",
     "text": [
      "I am learning Python at CloudxLab\n"
     ]
    }
   ],
   "source": [
    "delimiter = \"am\"    \n",
    "print(delimiter.join(sp))"
   ]
  },
  {
   "cell_type": "code",
   "execution_count": 3,
   "metadata": {},
   "outputs": [],
   "source": [
    "def str_list_func(s):\n",
    "    a=s.split()\n",
    "#print(a)\n",
    "    new=[]\n",
    "    for word in a:\n",
    "        if len(word)>1:\n",
    "            d = word[-1:]+word[1:-1]+word[:1]\n",
    "            new.append(d)\n",
    "        else:\n",
    "            d=word[0]\n",
    "            new.append(d)\n",
    "    listToStr = ' '.join(map(str, new))\n",
    "    return(listToStr)"
   ]
  },
  {
   "cell_type": "code",
   "execution_count": 4,
   "metadata": {},
   "outputs": [
    {
     "data": {
      "text/plain": [
       "'I ma gearninl nythoP ta bloudxLaC'"
      ]
     },
     "execution_count": 4,
     "metadata": {},
     "output_type": "execute_result"
    }
   ],
   "source": [
    "str_list_func('I am learning Python at CloudxLab')"
   ]
  },
  {
   "cell_type": "code",
   "execution_count": 1,
   "metadata": {},
   "outputs": [
    {
     "name": "stdout",
     "output_type": "stream",
     "text": [
      "cloud\n",
      "x\n",
      "lab\n"
     ]
    }
   ],
   "source": [
    "print(\"cloud\\nx\\nlab\")"
   ]
  },
  {
   "cell_type": "code",
   "execution_count": 2,
   "metadata": {},
   "outputs": [
    {
     "name": "stdout",
     "output_type": "stream",
     "text": [
      "This is a sample file for testing\n",
      "\n",
      "for Python course for\n",
      "\n",
      "learners in CloudxLab.\n",
      "\n",
      "This is a sample file for testing\n",
      "for Python course for\n",
      "learners in CloudxLab.\n",
      "\n"
     ]
    }
   ],
   "source": [
    "with open(\"/cxldata/python_sample_file\") as f:\n",
    "    s = \"\"\n",
    "    for line in f:\n",
    "        print(line)\n",
    "        s = s + line\n",
    "    print(s)"
   ]
  },
  {
   "cell_type": "code",
   "execution_count": 24,
   "metadata": {},
   "outputs": [],
   "source": [
    "def file_read_func(path):\n",
    "    try:\n",
    "        with open(path) as f:\n",
    "            content=f.read()\n",
    "            print(content)\n",
    "            content = content.replace('\\n',' ')\n",
    "            list_of_words = content.split(\" \")\n",
    "            print(list_of_words)\n",
    "            sum=0\n",
    "            for words in list_of_words:\n",
    "                sum =sum+len(words)\n",
    "               # print(sum)\n",
    "            return sum\n",
    "    except:\n",
    "        return -1"
   ]
  },
  {
   "cell_type": "code",
   "execution_count": 25,
   "metadata": {},
   "outputs": [
    {
     "name": "stdout",
     "output_type": "stream",
     "text": [
      "This is a sample file for testing\n",
      "for Python course for\n",
      "learners in CloudxLab.\n",
      "\n",
      "['This', 'is', 'a', 'sample', 'file', 'for', 'testing', 'for', 'Python', 'course', 'for', 'learners', 'in', 'CloudxLab.', '']\n"
     ]
    },
    {
     "data": {
      "text/plain": [
       "65"
      ]
     },
     "execution_count": 25,
     "metadata": {},
     "output_type": "execute_result"
    }
   ],
   "source": [
    "file_read_func(\"/cxldata/python_sample_file\")"
   ]
  },
  {
   "cell_type": "code",
   "execution_count": 30,
   "metadata": {},
   "outputs": [
    {
     "name": "stdout",
     "output_type": "stream",
     "text": [
      "0\n"
     ]
    }
   ],
   "source": [
    "check = 0\n",
    "with open(\"/cxldata/python_sample_file\") as f:\n",
    "    for line in f:\n",
    "        if(line.startswith('w')):\n",
    "            check = check + 1\n",
    "    print(check)"
   ]
  },
  {
   "cell_type": "code",
   "execution_count": 31,
   "metadata": {},
   "outputs": [
    {
     "ename": "PermissionError",
     "evalue": "[Errno 13] Permission denied: '/cxldata/python_sample_file'",
     "output_type": "error",
     "traceback": [
      "\u001b[0;31m---------------------------------------------------------------------------\u001b[0m",
      "\u001b[0;31mPermissionError\u001b[0m                           Traceback (most recent call last)",
      "\u001b[0;32m<ipython-input-31-48234706b79e>\u001b[0m in \u001b[0;36m<module>\u001b[0;34m\u001b[0m\n\u001b[0;32m----> 1\u001b[0;31m \u001b[0;32mwith\u001b[0m \u001b[0mopen\u001b[0m\u001b[0;34m(\u001b[0m\u001b[0;34m\"/cxldata/python_sample_file\"\u001b[0m\u001b[0;34m,\u001b[0m \u001b[0;34m'w'\u001b[0m\u001b[0;34m)\u001b[0m \u001b[0;32mas\u001b[0m \u001b[0mf\u001b[0m\u001b[0;34m:\u001b[0m\u001b[0;34m\u001b[0m\u001b[0;34m\u001b[0m\u001b[0m\n\u001b[0m\u001b[1;32m      2\u001b[0m     \u001b[0mprint\u001b[0m\u001b[0;34m(\u001b[0m\u001b[0mf\u001b[0m\u001b[0;34m.\u001b[0m\u001b[0mread\u001b[0m\u001b[0;34m(\u001b[0m\u001b[0;34m)\u001b[0m\u001b[0;34m)\u001b[0m\u001b[0;34m\u001b[0m\u001b[0;34m\u001b[0m\u001b[0m\n",
      "\u001b[0;31mPermissionError\u001b[0m: [Errno 13] Permission denied: '/cxldata/python_sample_file'"
     ]
    }
   ],
   "source": [
    "with open(\"/cxldata/python_sample_file\", 'w') as f:\n",
    "    print(f.read())"
   ]
  },
  {
   "cell_type": "code",
   "execution_count": 32,
   "metadata": {},
   "outputs": [
    {
     "name": "stdout",
     "output_type": "stream",
     "text": [
      "This is a sample file for testing\n",
      "for Python course for\n",
      "learners in CloudxLab.\n",
      "\n"
     ]
    }
   ],
   "source": [
    "with open(\"/cxldata/python_sample_file\", 'r') as f:\n",
    "    print(f.read())"
   ]
  },
  {
   "cell_type": "code",
   "execution_count": 35,
   "metadata": {},
   "outputs": [
    {
     "name": "stdout",
     "output_type": "stream",
     "text": [
      "Python is a scripting language\n"
     ]
    }
   ],
   "source": [
    "with open(\"cxl.txt\", 'r') as f:\n",
    "    print(f.read())\n",
    "    #f.write(\"Python is a scripting language\")"
   ]
  },
  {
   "cell_type": "code",
   "execution_count": 44,
   "metadata": {},
   "outputs": [
    {
     "name": "stdout",
     "output_type": "stream",
     "text": [
      "I am learning Python at CLoudxLab\n"
     ]
    }
   ],
   "source": [
    "with open(\"/home/kunalpcea2433/cloudxlab_jupyter_notebooks/python_file_writing.txt\", 'r') as f:\n",
    "    print(f.read())\n",
    "    #f.write(\"I am learning Python at CLoudxLab\")"
   ]
  },
  {
   "cell_type": "code",
   "execution_count": null,
   "metadata": {},
   "outputs": [],
   "source": []
  },
  {
   "cell_type": "code",
   "execution_count": null,
   "metadata": {},
   "outputs": [],
   "source": []
  }
 ],
 "metadata": {
  "kernelspec": {
   "display_name": "Python 3",
   "language": "python",
   "name": "python3"
  },
  "language_info": {
   "codemirror_mode": {
    "name": "ipython",
    "version": 3
   },
   "file_extension": ".py",
   "mimetype": "text/x-python",
   "name": "python",
   "nbconvert_exporter": "python",
   "pygments_lexer": "ipython3",
   "version": "3.6.8"
  },
  "toc": {
   "base_numbering": 1,
   "nav_menu": {},
   "number_sections": true,
   "sideBar": true,
   "skip_h1_title": false,
   "title_cell": "Table of Contents",
   "title_sidebar": "Contents",
   "toc_cell": false,
   "toc_position": {},
   "toc_section_display": true,
   "toc_window_display": false
  }
 },
 "nbformat": 4,
 "nbformat_minor": 2
}
