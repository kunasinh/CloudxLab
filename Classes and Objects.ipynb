{
 "cells": [
  {
   "cell_type": "code",
   "execution_count": 1,
   "metadata": {},
   "outputs": [],
   "source": [
    "class PartyAnimal:\n",
    "    x=0   \n",
    "    def party(self):\n",
    "        self.x=self.x+1\n",
    "        print('So far',self.x)"
   ]
  },
  {
   "cell_type": "code",
   "execution_count": 2,
   "metadata": {},
   "outputs": [
    {
     "name": "stdout",
     "output_type": "stream",
     "text": [
      "-----AN-----\n",
      "So far 1\n",
      "So far 2\n",
      "So far 3\n",
      "-----SO------\n",
      "So far 1\n"
     ]
    }
   ],
   "source": [
    "an =PartyAnimal()\n",
    "print(\"-----AN-----\")\n",
    "an.party()\n",
    "an.party()\n",
    "an.party()\n",
    "print(\"-----SO------\")\n",
    "so = PartyAnimal()\n",
    "so.party()"
   ]
  },
  {
   "cell_type": "code",
   "execution_count": 3,
   "metadata": {},
   "outputs": [],
   "source": [
    "# constructor\n",
    "\n",
    "class PartyAnimal:\n",
    "    x=0\n",
    "    \n",
    "    def __init__(self):\n",
    "        print('In the constructor')\n",
    "        \n",
    "    def party(self):\n",
    "        self.x = self.x+1\n",
    "        print(\"so far\", self.x)\n",
    "        \n",
    "    def __del__(self):\n",
    "        print(\"I'm a destructor\", self.x)"
   ]
  },
  {
   "cell_type": "code",
   "execution_count": 10,
   "metadata": {},
   "outputs": [
    {
     "name": "stdout",
     "output_type": "stream",
     "text": [
      "In the constructor\n",
      "I'm a destructor 3\n",
      "so far 1\n",
      "so far 2\n",
      "so far 3\n",
      "In the constructor\n",
      "I'm a destructor 0\n",
      "so far 1\n"
     ]
    }
   ],
   "source": [
    "an = PartyAnimal()\n",
    "an.party()\n",
    "an.party()\n",
    "an.party()\n",
    "so = PartyAnimal()\n",
    "so.party()"
   ]
  },
  {
   "cell_type": "code",
   "execution_count": 12,
   "metadata": {},
   "outputs": [
    {
     "name": "stdout",
     "output_type": "stream",
     "text": [
      "In the constructor\n",
      "Sally so far 1\n",
      "In the constructor\n",
      "Jim so far 1\n",
      "Sally so far 2\n"
     ]
    }
   ],
   "source": [
    "#many instances\n",
    "\n",
    "class PartyAnimal:\n",
    "    x=0\n",
    "    \n",
    "    def __init__(self,nam):\n",
    "        self.name=nam\n",
    "        print('In the constructor')\n",
    "        \n",
    "    def party(self):\n",
    "        self.x = self.x+1\n",
    "        print(self.name,\"so far\", self.x)\n",
    "        \n",
    "s = PartyAnimal('Sally')\n",
    "s.party()\n",
    "\n",
    "j = PartyAnimal(\"Jim\")\n",
    "j.party()\n",
    "s.party()"
   ]
  },
  {
   "cell_type": "code",
   "execution_count": 13,
   "metadata": {},
   "outputs": [],
   "source": [
    "# Inheritence\n",
    "\n",
    "class PartyAnimal:\n",
    "    x=0\n",
    "    \n",
    "    def __init__(self,nam):\n",
    "        self.name=nam\n",
    "        print('In the constructor')\n",
    "        \n",
    "    def party(self):\n",
    "        self.x = self.x+1\n",
    "        print(self.name,\"so far\", self.x)\n",
    "        \n",
    "class FootballFan(PartyAnimal):\n",
    "    points =0\n",
    "    def touchdown(self):\n",
    "        self.points = self.points+7\n",
    "        self.party()\n",
    "        print(self.name, \"points\", self.points)"
   ]
  },
  {
   "cell_type": "code",
   "execution_count": 15,
   "metadata": {},
   "outputs": [
    {
     "name": "stdout",
     "output_type": "stream",
     "text": [
      "In the constructor\n",
      "Sally so far 1\n",
      "In the constructor\n",
      "Jim so far 1\n",
      "Jim so far 2\n",
      "Jim points 7\n"
     ]
    }
   ],
   "source": [
    "s = PartyAnimal('Sally')\n",
    "s.party()\n",
    "\n",
    "j = FootballFan(\"Jim\")\n",
    "j.party()\n",
    "j.touchdown()\n"
   ]
  },
  {
   "cell_type": "code",
   "execution_count": 1,
   "metadata": {},
   "outputs": [
    {
     "data": {
      "text/plain": [
       "10.25"
      ]
     },
     "execution_count": 1,
     "metadata": {},
     "output_type": "execute_result"
    }
   ],
   "source": [
    "import mylib\n",
    "mylib.compoundinterest(100,5,2)"
   ]
  },
  {
   "cell_type": "code",
   "execution_count": null,
   "metadata": {},
   "outputs": [],
   "source": []
  }
 ],
 "metadata": {
  "kernelspec": {
   "display_name": "Python 3",
   "language": "python",
   "name": "python3"
  },
  "language_info": {
   "codemirror_mode": {
    "name": "ipython",
    "version": 3
   },
   "file_extension": ".py",
   "mimetype": "text/x-python",
   "name": "python",
   "nbconvert_exporter": "python",
   "pygments_lexer": "ipython3",
   "version": "3.6.8"
  },
  "toc": {
   "base_numbering": 1,
   "nav_menu": {},
   "number_sections": true,
   "sideBar": true,
   "skip_h1_title": false,
   "title_cell": "Table of Contents",
   "title_sidebar": "Contents",
   "toc_cell": false,
   "toc_position": {},
   "toc_section_display": true,
   "toc_window_display": false
  }
 },
 "nbformat": 4,
 "nbformat_minor": 2
}
